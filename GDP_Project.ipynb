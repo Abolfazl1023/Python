{
 "cells": [
  {
   "cell_type": "markdown",
   "metadata": {},
   "source": [
    "This is a sample code written by ABOLFAZL RoostaeiParidari.\n",
    "\n",
    "The Data comes from: www.simplilearn.com\n",
    "\n",
    "contact: roostaeiabolfazl@gmail.com"
   ]
  },
  {
   "cell_type": "code",
   "execution_count": 1,
   "metadata": {},
   "outputs": [],
   "source": [
    "import pandas as pd\n",
    "import numpy as np"
   ]
  },
  {
   "cell_type": "code",
   "execution_count": 2,
   "metadata": {},
   "outputs": [
    {
     "data": {
      "text/html": [
       "<div>\n",
       "<style scoped>\n",
       "    .dataframe tbody tr th:only-of-type {\n",
       "        vertical-align: middle;\n",
       "    }\n",
       "\n",
       "    .dataframe tbody tr th {\n",
       "        vertical-align: top;\n",
       "    }\n",
       "\n",
       "    .dataframe thead th {\n",
       "        text-align: right;\n",
       "    }\n",
       "</style>\n",
       "<table border=\"1\" class=\"dataframe\">\n",
       "  <thead>\n",
       "    <tr style=\"text-align: right;\">\n",
       "      <th></th>\n",
       "      <th>0</th>\n",
       "    </tr>\n",
       "  </thead>\n",
       "  <tbody>\n",
       "    <tr>\n",
       "      <th>Algeria</th>\n",
       "      <td>2255.225482</td>\n",
       "    </tr>\n",
       "    <tr>\n",
       "      <th>Angola</th>\n",
       "      <td>629.955306</td>\n",
       "    </tr>\n",
       "    <tr>\n",
       "      <th>Argentina</th>\n",
       "      <td>11601.630220</td>\n",
       "    </tr>\n",
       "    <tr>\n",
       "      <th>Australia</th>\n",
       "      <td>25306.824940</td>\n",
       "    </tr>\n",
       "    <tr>\n",
       "      <th>Austria</th>\n",
       "      <td>27266.403350</td>\n",
       "    </tr>\n",
       "  </tbody>\n",
       "</table>\n",
       "</div>"
      ],
      "text/plain": [
       "                      0\n",
       "Algeria     2255.225482\n",
       "Angola       629.955306\n",
       "Argentina  11601.630220\n",
       "Australia  25306.824940\n",
       "Austria    27266.403350"
      ]
     },
     "execution_count": 2,
     "metadata": {},
     "output_type": "execute_result"
    }
   ],
   "source": [
    "# Q1\n",
    "data_GDP = pd.read_csv('GDP_dataset.txt',index_col=False)\n",
    "data_GDP = data_GDP.T\n",
    "data_GDP.head()"
   ]
  },
  {
   "cell_type": "code",
   "execution_count": 3,
   "metadata": {},
   "outputs": [
    {
     "data": {
      "text/html": [
       "<div>\n",
       "<style scoped>\n",
       "    .dataframe tbody tr th:only-of-type {\n",
       "        vertical-align: middle;\n",
       "    }\n",
       "\n",
       "    .dataframe tbody tr th {\n",
       "        vertical-align: top;\n",
       "    }\n",
       "\n",
       "    .dataframe thead th {\n",
       "        text-align: right;\n",
       "    }\n",
       "</style>\n",
       "<table border=\"1\" class=\"dataframe\">\n",
       "  <thead>\n",
       "    <tr style=\"text-align: right;\">\n",
       "      <th></th>\n",
       "      <th>0</th>\n",
       "    </tr>\n",
       "  </thead>\n",
       "  <tbody>\n",
       "    <tr>\n",
       "      <th>count</th>\n",
       "      <td>63.000000</td>\n",
       "    </tr>\n",
       "    <tr>\n",
       "      <th>mean</th>\n",
       "      <td>11289.409272</td>\n",
       "    </tr>\n",
       "    <tr>\n",
       "      <th>std</th>\n",
       "      <td>12846.190627</td>\n",
       "    </tr>\n",
       "    <tr>\n",
       "      <th>min</th>\n",
       "      <td>229.676952</td>\n",
       "    </tr>\n",
       "    <tr>\n",
       "      <th>25%</th>\n",
       "      <td>1270.818919</td>\n",
       "    </tr>\n",
       "    <tr>\n",
       "      <th>50%</th>\n",
       "      <td>4803.398244</td>\n",
       "    </tr>\n",
       "    <tr>\n",
       "      <th>75%</th>\n",
       "      <td>20262.713475</td>\n",
       "    </tr>\n",
       "    <tr>\n",
       "      <th>max</th>\n",
       "      <td>40034.850630</td>\n",
       "    </tr>\n",
       "  </tbody>\n",
       "</table>\n",
       "</div>"
      ],
      "text/plain": [
       "                  0\n",
       "count     63.000000\n",
       "mean   11289.409272\n",
       "std    12846.190627\n",
       "min      229.676952\n",
       "25%     1270.818919\n",
       "50%     4803.398244\n",
       "75%    20262.713475\n",
       "max    40034.850630"
      ]
     },
     "execution_count": 3,
     "metadata": {},
     "output_type": "execute_result"
    }
   ],
   "source": [
    "data_GDP.describe()"
   ]
  },
  {
   "cell_type": "code",
   "execution_count": 4,
   "metadata": {},
   "outputs": [
    {
     "name": "stdout",
     "output_type": "stream",
     "text": [
      "<class 'pandas.core.frame.DataFrame'>\n",
      "Index: 63 entries, Algeria to Zimbabwe\n",
      "Data columns (total 1 columns):\n",
      " #   Column  Non-Null Count  Dtype  \n",
      "---  ------  --------------  -----  \n",
      " 0   0       63 non-null     float64\n",
      "dtypes: float64(1)\n",
      "memory usage: 1008.0+ bytes\n"
     ]
    }
   ],
   "source": [
    "data_GDP.info()"
   ]
  },
  {
   "cell_type": "code",
   "execution_count": 5,
   "metadata": {},
   "outputs": [
    {
     "data": {
      "text/plain": [
       "Index(['Algeria', 'Angola', 'Argentina', 'Australia', 'Austria', 'Bahamas',\n",
       "       'Bangladesh', 'Belarus', 'Belgium', 'Bhutan', 'Brazil', 'Bulgaria',\n",
       "       'Cambodia', 'Cameroon', 'Chile', 'China', 'Colombia', 'Cyprus',\n",
       "       'Denmark', 'ElSalvador', 'Estonia', 'Ethiopia', 'Fiji', 'Finland',\n",
       "       'France', 'Georgia', 'Ghana', 'Grenada', 'Guinea', 'Haiti', 'Honduras',\n",
       "       'Hungary', 'India', 'Indonesia', 'Ireland', 'Italy', 'Japan', 'Kenya',\n",
       "       'SouthKorea', 'Liberia', 'Malaysia', 'Mexico', 'Morocco', 'Nepal',\n",
       "       'NewZealand', 'Norway', 'Pakistan', 'Peru', 'Qatar', 'Russia',\n",
       "       'Singapore', 'SouthAfrica', 'Spain', 'Sweden', 'Switzerland',\n",
       "       'Thailand', 'UAE', 'UK', 'USA', 'Uruguay', 'Venezuela', 'Vietnam',\n",
       "       'Zimbabwe'],\n",
       "      dtype='object')"
      ]
     },
     "execution_count": 5,
     "metadata": {},
     "output_type": "execute_result"
    }
   ],
   "source": [
    "index_GDP = data_GDP.index\n",
    "index_GDP"
   ]
  },
  {
   "cell_type": "code",
   "execution_count": 6,
   "metadata": {},
   "outputs": [
    {
     "data": {
      "text/plain": [
       "pandas.core.frame.DataFrame"
      ]
     },
     "execution_count": 6,
     "metadata": {},
     "output_type": "execute_result"
    }
   ],
   "source": [
    "type(data_GDP)"
   ]
  },
  {
   "cell_type": "code",
   "execution_count": 7,
   "metadata": {},
   "outputs": [
    {
     "data": {
      "text/plain": [
       "Algeria       2255.225482\n",
       "Angola         629.955306\n",
       "Argentina    11601.630220\n",
       "Australia    25306.824940\n",
       "Austria      27266.403350\n",
       "                 ...     \n",
       "USA          37691.027330\n",
       "Uruguay       9581.056590\n",
       "Venezuela     5671.912202\n",
       "Vietnam        757.400929\n",
       "Zimbabwe       347.745660\n",
       "Name: 0, Length: 63, dtype: float64"
      ]
     },
     "execution_count": 7,
     "metadata": {},
     "output_type": "execute_result"
    }
   ],
   "source": [
    "ser_GDP = data_GDP[0]\n",
    "ser_GDP"
   ]
  },
  {
   "cell_type": "code",
   "execution_count": 8,
   "metadata": {},
   "outputs": [
    {
     "data": {
      "text/plain": [
       "pandas.core.series.Series"
      ]
     },
     "execution_count": 8,
     "metadata": {},
     "output_type": "execute_result"
    }
   ],
   "source": [
    "type(ser_GDP)"
   ]
  },
  {
   "cell_type": "code",
   "execution_count": 9,
   "metadata": {},
   "outputs": [
    {
     "data": {
      "text/plain": [
       "45"
      ]
     },
     "execution_count": 9,
     "metadata": {},
     "output_type": "execute_result"
    }
   ],
   "source": [
    "# Q2\n",
    "ser_GDP.argmax()"
   ]
  },
  {
   "cell_type": "code",
   "execution_count": 10,
   "metadata": {},
   "outputs": [
    {
     "data": {
      "text/plain": [
       "40034.85063"
      ]
     },
     "execution_count": 10,
     "metadata": {},
     "output_type": "execute_result"
    }
   ],
   "source": [
    "Max_GDP = ser_GDP[ser_GDP.argmax()]\n",
    "Max_GDP"
   ]
  },
  {
   "cell_type": "code",
   "execution_count": 11,
   "metadata": {},
   "outputs": [
    {
     "data": {
      "text/plain": [
       "'Norway'"
      ]
     },
     "execution_count": 11,
     "metadata": {},
     "output_type": "execute_result"
    }
   ],
   "source": [
    "ser_GDP.index[45]"
   ]
  },
  {
   "cell_type": "code",
   "execution_count": 12,
   "metadata": {},
   "outputs": [
    {
     "data": {
      "text/plain": [
       "21"
      ]
     },
     "execution_count": 12,
     "metadata": {},
     "output_type": "execute_result"
    }
   ],
   "source": [
    "# Q3\n",
    "ser_GDP.argmin()"
   ]
  },
  {
   "cell_type": "code",
   "execution_count": 13,
   "metadata": {},
   "outputs": [
    {
     "data": {
      "text/plain": [
       "229.6769525"
      ]
     },
     "execution_count": 13,
     "metadata": {},
     "output_type": "execute_result"
    }
   ],
   "source": [
    "Min_GDP = ser_GDP[ser_GDP.argmin()]\n",
    "Min_GDP"
   ]
  },
  {
   "cell_type": "code",
   "execution_count": 14,
   "metadata": {},
   "outputs": [
    {
     "data": {
      "text/plain": [
       "'Ethiopia'"
      ]
     },
     "execution_count": 14,
     "metadata": {},
     "output_type": "execute_result"
    }
   ],
   "source": [
    "ser_GDP.index[21]"
   ]
  },
  {
   "cell_type": "code",
   "execution_count": null,
   "metadata": {},
   "outputs": [
    {
     "name": "stdout",
     "output_type": "stream",
     "text": [
      "Evaluating Country\n",
      "Country Name:\n",
      "Iraq\n",
      "ERROR: The Input \"Iraq\" Does NOT exist!!!!\n",
      "Country Name:\n",
      "China\n",
      "The Input \"China\" Does Truely Exist.\n",
      "Country Name:\n",
      "SouthKorea\n",
      "The Input \"SouthKorea\" Does Truely Exist.\n",
      "Country Name:\n",
      "USA\n",
      "The Input \"USA\" Does Truely Exist.\n",
      "Country Name:\n",
      "E\n",
      "ERROR: The Input \"E\" Does NOT exist!!!!\n",
      "Country Name:\n",
      "Poland\n",
      "ERROR: The Input \"Poland\" Does NOT exist!!!!\n"
     ]
    }
   ],
   "source": [
    "# Q4\n",
    "print('Evaluating Country')\n",
    "for i in ser_GDP:\n",
    "    country_name = input(\"Country Name:\\n\")\n",
    "    if country_name in index_GDP:\n",
    "        print(f'The Input \"{country_name}\" Does Truely Exist.')\n",
    "    else:\n",
    "        print(f'ERROR: The Input \"{country_name}\" Does NOT exist!!!!')"
   ]
  },
  {
   "cell_type": "code",
   "execution_count": 16,
   "metadata": {},
   "outputs": [
    {
     "name": "stdout",
     "output_type": "stream",
     "text": [
      "                        0\n",
      "Algeria       2255.225482\n",
      "Angola         629.955306\n",
      "Argentina    11601.630220\n",
      "Australia    25306.824940\n",
      "Austria      27266.403350\n",
      "Bahamas      19466.990520\n",
      "Bangladesh     588.369178\n",
      "Belarus       2890.345675\n",
      "Belgium      24733.626960\n",
      "Bhutan        1445.760002\n",
      "Brazil        4803.398244\n",
      "Bulgaria      2618.876037\n",
      "Cambodia       590.452112\n",
      "Cameroon       665.798233\n",
      "Chile         7122.938458\n",
      "China         2639.541560\n",
      "Colombia      3362.465600\n",
      "Cyprus       15378.167040\n",
      "Denmark      30860.128080\n",
      "ElSalvador    2579.115607\n",
      "Estonia       6525.541272\n",
      "Ethiopia       229.676952\n",
      "Fiji          2242.689259\n",
      "Finland      27570.485200\n",
      "France       23016.847780\n",
      "Georgia       1334.646773\n",
      "Ghana          402.695328\n",
      "Grenada       6047.200797\n",
      "Guinea         394.115664\n",
      "Haiti          385.579383\n",
      "Honduras      1414.072488\n",
      "Hungary       5745.981529\n",
      "India          837.746401\n",
      "Indonesia     1206.991065\n",
      "Ireland      27715.528370\n",
      "Italy        18937.249980\n",
      "Japan        39578.074410\n",
      "Kenya          478.219491\n",
      "SouthKorea   16684.212780\n",
      "Liberia        279.220406\n",
      "Malaysia      5345.213415\n",
      "Mexico        6288.253240\n",
      "Morocco       1908.304416\n",
      "Nepal          274.872862\n",
      "NewZealand   14646.420940\n",
      "Norway       40034.850630\n",
      "Pakistan       672.154751\n",
      "Peru          3359.517402\n",
      "Qatar        36152.666760\n",
      "Russia        3054.727742\n",
      "Singapore    33529.830520\n",
      "SouthAfrica   3825.093781\n",
      "Spain        15428.320980\n",
      "Sweden       33630.246040\n",
      "Switzerland  39170.413710\n",
      "Thailand      2699.123242\n",
      "UAE          21058.436430\n",
      "UK           28272.406610\n",
      "USA          37691.027330\n",
      "Uruguay       9581.056590\n",
      "Venezuela     5671.912202\n",
      "Vietnam        757.400929\n",
      "Zimbabwe       347.745660\n"
     ]
    }
   ],
   "source": [
    "# Q5\n",
    "with pd.option_context('display.max_rows', 100, 'display.max_columns', 100):  # more options can be specified also\n",
    "    print(data_GDP)"
   ]
  },
  {
   "cell_type": "code",
   "execution_count": 17,
   "metadata": {},
   "outputs": [
    {
     "data": {
      "text/plain": [
       "11289.409271639684"
      ]
     },
     "execution_count": 17,
     "metadata": {},
     "output_type": "execute_result"
    }
   ],
   "source": [
    "GDP_mean = ser_GDP.mean()\n",
    "GDP_mean"
   ]
  },
  {
   "cell_type": "code",
   "execution_count": 18,
   "metadata": {},
   "outputs": [],
   "source": [
    "from sklearn.preprocessing import StandardScaler\n",
    "scale = StandardScaler()\n",
    "scaled_data = scale.fit_transform(data_GDP)"
   ]
  },
  {
   "cell_type": "code",
   "execution_count": 19,
   "metadata": {},
   "outputs": [
    {
     "data": {
      "text/plain": [
       "711232.7841133001"
      ]
     },
     "execution_count": 19,
     "metadata": {},
     "output_type": "execute_result"
    }
   ],
   "source": [
    "SumGDP = sum(ser_GDP)\n",
    "SumGDP"
   ]
  },
  {
   "cell_type": "code",
   "execution_count": 20,
   "metadata": {},
   "outputs": [
    {
     "name": "stdout",
     "output_type": "stream",
     "text": [
      "MaxGDP: 40034.85063, \n",
      "MinGPD: 229.6769525, \n",
      "MeanGDP: 11289.409271639684, \n",
      "SumGDP: 711232.7841133001\n",
      "Standardized_Val: \n",
      "[[-0.70890655]\n",
      " [-0.83644045]\n",
      " [ 0.02449978]\n",
      " [ 1.09993753]\n",
      " [ 1.25370438]\n",
      " [ 0.6416895 ]\n",
      " [-0.83970368]\n",
      " [-0.65906908]\n",
      " [ 1.05495905]\n",
      " [-0.77242478]\n",
      " [-0.50895308]\n",
      " [-0.68037113]\n",
      " [-0.83954024]\n",
      " [-0.83362788]\n",
      " [-0.32694027]\n",
      " [-0.67874952]\n",
      " [-0.62202214]\n",
      " [ 0.32084217]\n",
      " [ 1.53570163]\n",
      " [-0.6834911 ]\n",
      " [-0.37381764]\n",
      " [-0.86785003]\n",
      " [-0.70989026]\n",
      " [ 1.27756548]\n",
      " [ 0.9202445 ]\n",
      " [-0.78114377]\n",
      " [-0.85427339]\n",
      " [-0.4113527 ]\n",
      " [-0.85494663]\n",
      " [-0.85561647]\n",
      " [-0.77491128]\n",
      " [-0.43498918]\n",
      " [-0.82013522]\n",
      " [-0.79116083]\n",
      " [ 1.28894693]\n",
      " [ 0.60012111]\n",
      " [ 2.21979323]\n",
      " [-0.84834706]\n",
      " [ 0.42332674]\n",
      " [-0.86396239]\n",
      " [-0.4664372 ]\n",
      " [-0.39243747]\n",
      " [-0.73612922]\n",
      " [-0.86430354]\n",
      " [ 0.26342253]\n",
      " [ 2.25563616]\n",
      " [-0.83312909]\n",
      " [-0.62225348]\n",
      " [ 1.95100371]\n",
      " [-0.64617013]\n",
      " [ 1.74519145]\n",
      " [-0.58572   ]\n",
      " [ 0.32477772]\n",
      " [ 1.75307099]\n",
      " [ 2.18780436]\n",
      " [-0.67407418]\n",
      " [ 0.76656923]\n",
      " [ 1.3326448 ]\n",
      " [ 2.07171787]\n",
      " [-0.13405333]\n",
      " [-0.44080136]\n",
      " [-0.82643987]\n",
      " [-0.85858526]]\n"
     ]
    }
   ],
   "source": [
    "# Q 6\n",
    "print(f'MaxGDP: {Max_GDP}, \\nMinGPD: {Min_GDP}, \\nMeanGDP: {GDP_mean}, \\nSumGDP: {SumGDP}')\n",
    "print(f'Standardized_Val: \\n{scaled_data}')"
   ]
  },
  {
   "cell_type": "code",
   "execution_count": null,
   "metadata": {},
   "outputs": [],
   "source": []
  }
 ],
 "metadata": {
  "kernelspec": {
   "display_name": "Python 3",
   "language": "python",
   "name": "python3"
  },
  "language_info": {
   "codemirror_mode": {
    "name": "ipython",
    "version": 3
   },
   "file_extension": ".py",
   "mimetype": "text/x-python",
   "name": "python",
   "nbconvert_exporter": "python",
   "pygments_lexer": "ipython3",
   "version": "3.7.6"
  }
 },
 "nbformat": 4,
 "nbformat_minor": 4
}
